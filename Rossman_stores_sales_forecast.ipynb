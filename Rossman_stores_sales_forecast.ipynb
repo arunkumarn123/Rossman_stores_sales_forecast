{
 "cells": [
  {
   "cell_type": "markdown",
   "metadata": {},
   "source": [
    "The data has been collected from Kaggle. Source: https://www.kaggle.com/c/rossmann-store-sales/data <br> <br>\n",
    "**Goal:** Predicting 6 weeks of daily sales for 1,115 stores located across Germany."
   ]
  },
  {
   "cell_type": "code",
   "execution_count": 0,
   "metadata": {
    "colab": {
     "autoexec": {
      "startup": false,
      "wait_interval": 0
     }
    },
    "colab_type": "code",
    "collapsed": true,
    "id": "hgf641TON_MY"
   },
   "outputs": [],
   "source": [
    "#Rossman Sales Prediction-Kaggle\n",
    "#Importing libraries\n",
    "\n",
    "import pandas as pd\n",
    "import numpy as np\n",
    "from sklearn.model_selection import train_test_split\n",
    "import xgboost as xgb\n",
    "import operator\n",
    "import matplotlib\n",
    "import matplotlib.pyplot as plt\n",
    "\n"
   ]
  },
  {
   "cell_type": "code",
   "execution_count": 0,
   "metadata": {
    "colab": {
     "autoexec": {
      "startup": false,
      "wait_interval": 0
     }
    },
    "colab_type": "code",
    "collapsed": true,
    "id": "rksyjufvSQlT"
   },
   "outputs": [],
   "source": [
    "\n",
    "def build_features(features, data):\n",
    "    # replacing nan with 0\n",
    "    data.fillna(0, inplace=True)\n",
    "    data.loc[data.Open.isnull(), 'Open'] = 1\n",
    "   \n",
    "    features.extend(['Store', 'CompetitionDistance', 'Promo', 'Promo2', 'SchoolHoliday'])\n",
    "\n",
    "    \n",
    "    features.extend(['StoreType', 'Assortment', 'StateHoliday'])\n",
    "    mappings = {'0':0, 'a':1, 'b':2, 'c':3, 'd':4}\n",
    "    data.StoreType.replace(mappings, inplace=True)\n",
    "    data.Assortment.replace(mappings, inplace=True)\n",
    "    data.StateHoliday.replace(mappings, inplace=True)\n",
    "\n",
    "    features.extend(['DayOfWeek', 'Month', 'Day', 'Year', 'WeekOfYear'])\n",
    "    data['Year'] = data.Date.dt.year\n",
    "    data['Month'] = data.Date.dt.month\n",
    "    data['Day'] = data.Date.dt.day\n",
    "    data['DayOfWeek'] = data.Date.dt.dayofweek\n",
    "    data['WeekOfYear'] = data.Date.dt.weekofyear\n",
    "\n",
    "    features.append('CompetitionOpen')\n",
    "    data['CompetitionOpen'] = 12 * (data.Year - data.CompetitionOpenSinceYear) + \\\n",
    "        (data.Month - data.CompetitionOpenSinceMonth)\n",
    "    # Number of months promo is open\n",
    "    features.append('PromoOpen')\n",
    "    data['PromoOpen'] = 12 * (data.Year - data.Promo2SinceYear) + \\\n",
    "        (data.WeekOfYear - data.Promo2SinceWeek) / 4.0\n",
    "    data['PromoOpen'] = data.PromoOpen.apply(lambda x: x if x > 0 else 0)\n",
    "    data.loc[data.Promo2SinceYear == 0, 'PromoOpen'] = 0\n",
    "\n",
    "    features.append('IsPromoMonth')\n",
    "    month2str = {1:'Jan', 2:'Feb', 3:'Mar', 4:'Apr', 5:'May', 6:'Jun', \\\n",
    "             7:'Jul', 8:'Aug', 9:'Sept', 10:'Oct', 11:'Nov', 12:'Dec'}\n",
    "    data['monthStr'] = data.Month.map(month2str)\n",
    "    data.loc[data.PromoInterval == 0, 'PromoInterval'] = ''\n",
    "    data['IsPromoMonth'] = 0\n",
    "    for interval in data.PromoInterval.unique():\n",
    "        if interval != '':\n",
    "            for month in interval.split(','):\n",
    "                data.loc[(data.monthStr == month) & (data.PromoInterval == interval), 'IsPromoMonth'] = 1\n",
    "\n",
    "    return data\n",
    "\n"
   ]
  },
  {
   "cell_type": "code",
   "execution_count": 30,
   "metadata": {
    "colab": {
     "autoexec": {
      "startup": false,
      "wait_interval": 0
     },
     "base_uri": "https://localhost:8080/",
     "height": 72,
     "output_extras": [
      {
       "item_id": 1
      },
      {
       "item_id": 2
      }
     ],
     "resources": {
      "http://localhost:8080/nbextensions/google.colab/files.js": {
       "data": "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",
       "headers": [
        [
         "content-type",
         "application/javascript"
        ]
       ],
       "ok": true,
       "status": 200,
       "status_text": ""
      }
     }
    },
    "colab_type": "code",
    "executionInfo": {
     "elapsed": 6927,
     "status": "ok",
     "timestamp": 1520914713807,
     "user": {
      "displayName": "arun nethi",
      "photoUrl": "https://lh3.googleusercontent.com/a/default-user=s128",
      "userId": "107339023581181760384"
     },
     "user_tz": 420
    },
    "id": "OtzRgl1wXS0l",
    "outputId": "071a394c-d6af-4f70-bd47-655b4df057c1"
   },
   "outputs": [
    {
     "data": {
      "text/html": [
       "\n",
       "     <input type=\"file\" id=\"files-409eabfe-b2a9-435d-8501-1ef1fefea8b2\" name=\"files[]\" multiple disabled />\n",
       "     <output id=\"result-409eabfe-b2a9-435d-8501-1ef1fefea8b2\">\n",
       "      Upload widget is only available when the cell has been executed in the\n",
       "      current browser session. Please rerun this cell to enable.\n",
       "      </output>\n",
       "      <script src=\"/nbextensions/google.colab/files.js\"></script> "
      ],
      "text/plain": [
       "<IPython.core.display.HTML object>"
      ]
     },
     "metadata": {
      "tags": []
     },
     "output_type": "display_data"
    },
    {
     "name": "stdout",
     "output_type": "stream",
     "text": [
      "Saving store.csv to store (1).csv\n"
     ]
    }
   ],
   "source": [
    "from google.colab import files\n",
    "uploaded = files.upload()"
   ]
  },
  {
   "cell_type": "code",
   "execution_count": 14,
   "metadata": {
    "colab": {
     "autoexec": {
      "startup": false,
      "wait_interval": 0
     },
     "base_uri": "https://localhost:8080/",
     "height": 34,
     "output_extras": [
      {
       "item_id": 1
      }
     ]
    },
    "colab_type": "code",
    "executionInfo": {
     "elapsed": 339,
     "status": "ok",
     "timestamp": 1520911504887,
     "user": {
      "displayName": "arun nethi",
      "photoUrl": "https://lh3.googleusercontent.com/a/default-user=s128",
      "userId": "107339023581181760384"
     },
     "user_tz": 420
    },
    "id": "sTqckufYXWc9",
    "outputId": "a4d41f4f-c3f8-4ad9-e676-9b668a8f320e"
   },
   "outputs": [
    {
     "name": "stdout",
     "output_type": "stream",
     "text": [
      "User uploaded file \"test.csv\" with length 1427426 bytes\n"
     ]
    }
   ],
   "source": [
    "for fn in uploaded.keys():\n",
    "  print('User uploaded file \"{name}\" with length {length} bytes'.format(\n",
    "      name=fn, length=len(uploaded[fn])))"
   ]
  },
  {
   "cell_type": "code",
   "execution_count": 27,
   "metadata": {
    "colab": {
     "autoexec": {
      "startup": false,
      "wait_interval": 0
     },
     "base_uri": "https://localhost:8080/",
     "height": 70,
     "output_extras": [
      {
       "item_id": 1
      }
     ]
    },
    "colab_type": "code",
    "executionInfo": {
     "elapsed": 1991,
     "status": "ok",
     "timestamp": 1520914681377,
     "user": {
      "displayName": "arun nethi",
      "photoUrl": "https://lh3.googleusercontent.com/a/default-user=s128",
      "userId": "107339023581181760384"
     },
     "user_tz": 420
    },
    "id": "GBh8eVFrXWpt",
    "outputId": "df92f485-adcb-431a-d3da-9a129b879f62"
   },
   "outputs": [
    {
     "name": "stderr",
     "output_type": "stream",
     "text": [
      "/usr/local/lib/python3.6/dist-packages/IPython/core/interactiveshell.py:2718: DtypeWarning: Columns (7) have mixed types. Specify dtype option on import or set low_memory=False.\n",
      "  interactivity=interactivity, compiler=compiler, result=result)\n"
     ]
    }
   ],
   "source": [
    "import pandas as pd\n",
    "import io\n",
    "train_data = pd.read_csv(io.StringIO(uploaded['train.csv'].decode('utf-8')), parse_dates=[2] )"
   ]
  },
  {
   "cell_type": "code",
   "execution_count": 0,
   "metadata": {
    "colab": {
     "autoexec": {
      "startup": false,
      "wait_interval": 0
     }
    },
    "colab_type": "code",
    "collapsed": true,
    "id": "h7DZuxDXYswe"
   },
   "outputs": [],
   "source": [
    "test_data = pd.read_csv(io.StringIO(uploaded['test.csv'].decode('utf-8')), parse_dates = [3])"
   ]
  },
  {
   "cell_type": "code",
   "execution_count": 0,
   "metadata": {
    "colab": {
     "autoexec": {
      "startup": false,
      "wait_interval": 0
     }
    },
    "colab_type": "code",
    "collapsed": true,
    "id": "wjHdlUvpYtDk"
   },
   "outputs": [],
   "source": [
    "store = pd.read_csv(io.StringIO(uploaded['store.csv'].decode('utf-8')))"
   ]
  },
  {
   "cell_type": "code",
   "execution_count": 32,
   "metadata": {
    "colab": {
     "autoexec": {
      "startup": false,
      "wait_interval": 0
     },
     "base_uri": "https://localhost:8080/",
     "height": 34,
     "output_extras": [
      {
       "item_id": 1
      }
     ]
    },
    "colab_type": "code",
    "executionInfo": {
     "elapsed": 395,
     "status": "ok",
     "timestamp": 1520914722866,
     "user": {
      "displayName": "arun nethi",
      "photoUrl": "https://lh3.googleusercontent.com/a/default-user=s128",
      "userId": "107339023581181760384"
     },
     "user_tz": 420
    },
    "id": "KVtXooRHSfui",
    "outputId": "575e3c21-41ee-4246-dc49-1c381d9908c7"
   },
   "outputs": [
    {
     "name": "stdout",
     "output_type": "stream",
     "text": [
      "Load the training, test and store data using pandas\n"
     ]
    }
   ],
   "source": [
    "\n",
    "types = {'CompetitionOpenSinceYear': np.dtype(int),\n",
    "         'CompetitionOpenSinceMonth': np.dtype(int),\n",
    "         'StateHoliday': np.dtype(str),\n",
    "         'Promo2SinceWeek': np.dtype(int),\n",
    "         'SchoolHoliday': np.dtype(float),\n",
    "         'PromoInterval': np.dtype(str)}\n"
   ]
  },
  {
   "cell_type": "code",
   "execution_count": 33,
   "metadata": {
    "colab": {
     "autoexec": {
      "startup": false,
      "wait_interval": 0
     },
     "base_uri": "https://localhost:8080/",
     "height": 154,
     "output_extras": [
      {
       "item_id": 2
      }
     ]
    },
    "colab_type": "code",
    "executionInfo": {
     "elapsed": 5053,
     "status": "ok",
     "timestamp": 1520914728807,
     "user": {
      "displayName": "arun nethi",
      "photoUrl": "https://lh3.googleusercontent.com/a/default-user=s128",
      "userId": "107339023581181760384"
     },
     "user_tz": 420
    },
    "id": "g9giCh6XWg5b",
    "outputId": "978f2290-44ee-4733-837a-26698cf3bc06"
   },
   "outputs": [
    {
     "name": "stdout",
     "output_type": "stream",
     "text": [
      "Assume store open, if not provided\n",
      "Consider only open stores for training. Closed stores wont count into the score.\n",
      "Use only Sales bigger then zero. Simplifies calculation of rmspe\n",
      "Join with store\n",
      "augment features\n",
      "['Store', 'CompetitionDistance', 'Promo', 'Promo2', 'SchoolHoliday', 'StoreType', 'Assortment', 'StateHoliday', 'DayOfWeek', 'Month', 'Day', 'Year', 'WeekOfYear', 'CompetitionOpen', 'PromoOpen', 'IsPromoMonth']\n",
      "training data processed\n"
     ]
    }
   ],
   "source": [
    "#Loading train_data,test_data and store data\n",
    "\n",
    "train_data.fillna(1, inplace=True)\n",
    "test_data.fillna(1, inplace=True)\n",
    "\n",
    "\n",
    "train_data = train_data[train_data[\"Open\"] != 0]\n",
    "\n",
    "train_data = train_data[train_data[\"Sales\"] > 0]\n",
    "\n",
    "print(\"Join with store\")\n",
    "train_data = pd.merge(train_data, store, on='Store')\n",
    "test_data = pd.merge(test_data, store, on='Store')\n",
    "\n",
    "features = []\n",
    "\n",
    "print(\"augment features\")\n",
    "build_features(features, train_data)\n",
    "build_features([], test_data)\n",
    "print(features)\n",
    "print('train_dataing data processed')\n",
    "\n",
    "\n",
    "unique = test_data.Store.unique()\n",
    "train_data = train_data[train_data['Store'].isin(unique)]\n",
    "\n",
    "# Lets split data into train_data and validation\n",
    "X_train_data, X_valid = train_data_test_data_split(train_data, test_data_size=0.012, random_state=10)\n",
    "y_train_data = np.log1p(X_train_data.Sales)\n",
    "y_valid = np.log1p(X_valid.Sales)\n",
    "\n",
    "def rmspe(y, yhat):\n",
    "    return np.sqrt(np.mean(((y-yhat)/y) ** 2))\n",
    "\n"
   ]
  },
  {
   "cell_type": "code",
   "execution_count": 45,
   "metadata": {
    "colab": {
     "autoexec": {
      "startup": false,
      "wait_interval": 0
     },
     "base_uri": "https://localhost:8080/",
     "height": 8264,
     "output_extras": [
      {
       "item_id": 44
      },
      {
       "item_id": 86
      },
      {
       "item_id": 131
      },
      {
       "item_id": 173
      },
      {
       "item_id": 216
      },
      {
       "item_id": 258
      },
      {
       "item_id": 302
      },
      {
       "item_id": 348
      },
      {
       "item_id": 391
      },
      {
       "item_id": 416
      },
      {
       "item_id": 417
      }
     ]
    },
    "colab_type": "code",
    "executionInfo": {
     "elapsed": 422865,
     "status": "ok",
     "timestamp": 1520921617569,
     "user": {
      "displayName": "arun nethi",
      "photoUrl": "https://lh3.googleusercontent.com/a/default-user=s128",
      "userId": "107339023581181760384"
     },
     "user_tz": 420
    },
    "id": "b_W5tqNpSuWF",
    "outputId": "f5c3a365-c81c-4206-de8f-fefce30f5797"
   },
   "outputs": [
    {
     "name": "stdout",
     "output_type": "stream",
     "text": [
      "Train a XGBoost model\n",
      "[0]\ttrain-rmse:6.61142\teval-rmse:6.61014\ttrain-rmspe:0.998709\teval-rmspe:0.998705\n",
      "Multiple eval metrics have been passed: 'eval-rmspe' will be used for early stopping.\n",
      "\n",
      "Will train until eval-rmspe hasn't improved in 100 rounds.\n",
      "[1]\ttrain-rmse:5.29293\teval-rmse:5.29255\ttrain-rmspe:0.994739\teval-rmspe:0.994731\n",
      "[2]\ttrain-rmse:4.23908\teval-rmse:4.23901\ttrain-rmspe:0.984622\teval-rmspe:0.984603\n",
      "[3]\ttrain-rmse:3.39626\teval-rmse:3.39704\ttrain-rmspe:0.964243\teval-rmspe:0.964222\n",
      "[4]\ttrain-rmse:2.7232\teval-rmse:2.72421\ttrain-rmspe:0.929986\teval-rmspe:0.929974\n",
      "[5]\ttrain-rmse:2.18587\teval-rmse:2.18687\ttrain-rmspe:0.88037\teval-rmspe:0.880321\n",
      "[6]\ttrain-rmse:1.75765\teval-rmse:1.759\ttrain-rmspe:0.816756\teval-rmspe:0.816745\n",
      "[7]\ttrain-rmse:1.41678\teval-rmse:1.41832\ttrain-rmspe:0.742973\teval-rmspe:0.742984\n",
      "[8]\ttrain-rmse:1.14626\teval-rmse:1.14819\ttrain-rmspe:0.664164\teval-rmspe:0.664261\n",
      "[9]\ttrain-rmse:0.932211\teval-rmse:0.934478\ttrain-rmspe:0.585675\teval-rmspe:0.585885\n",
      "[10]\ttrain-rmse:0.764096\teval-rmse:0.766688\ttrain-rmspe:0.512184\teval-rmspe:0.51252\n",
      "[11]\ttrain-rmse:0.632952\teval-rmse:0.636077\ttrain-rmspe:0.447188\teval-rmspe:0.447887\n",
      "[12]\ttrain-rmse:0.528021\teval-rmse:0.531082\ttrain-rmspe:0.391344\teval-rmspe:0.392049\n",
      "[13]\ttrain-rmse:0.448957\teval-rmse:0.451987\ttrain-rmspe:0.347117\teval-rmspe:0.3479\n",
      "[14]\ttrain-rmse:0.390333\teval-rmse:0.39386\ttrain-rmspe:0.31406\teval-rmspe:0.315436\n",
      "[15]\ttrain-rmse:0.343412\teval-rmse:0.347072\ttrain-rmspe:0.287881\teval-rmspe:0.289515\n",
      "[16]\ttrain-rmse:0.312181\teval-rmse:0.31599\ttrain-rmspe:0.272651\teval-rmspe:0.274616\n",
      "[17]\ttrain-rmse:0.287164\teval-rmse:0.291132\ttrain-rmspe:0.26135\teval-rmspe:0.263538\n",
      "[18]\ttrain-rmse:0.266741\teval-rmse:0.270761\ttrain-rmspe:0.252105\teval-rmspe:0.254694\n",
      "[19]\ttrain-rmse:0.254579\teval-rmse:0.258791\ttrain-rmspe:0.248429\teval-rmspe:0.251378\n",
      "[20]\ttrain-rmse:0.242835\teval-rmse:0.24723\ttrain-rmspe:0.243185\teval-rmspe:0.246726\n",
      "[21]\ttrain-rmse:0.234868\teval-rmse:0.239122\ttrain-rmspe:0.239989\teval-rmspe:0.243508\n",
      "[22]\ttrain-rmse:0.228445\teval-rmse:0.232483\ttrain-rmspe:0.237283\teval-rmspe:0.240748\n",
      "[23]\ttrain-rmse:0.220191\teval-rmse:0.224423\ttrain-rmspe:0.231372\teval-rmspe:0.234486\n",
      "[24]\ttrain-rmse:0.213947\teval-rmse:0.217761\ttrain-rmspe:0.227541\teval-rmspe:0.230511\n",
      "[25]\ttrain-rmse:0.211898\teval-rmse:0.216091\ttrain-rmspe:0.227459\teval-rmspe:0.23106\n",
      "[26]\ttrain-rmse:0.208258\teval-rmse:0.212696\ttrain-rmspe:0.225102\teval-rmspe:0.228999\n",
      "[27]\ttrain-rmse:0.204865\teval-rmse:0.209401\ttrain-rmspe:0.222884\teval-rmspe:0.227044\n",
      "[28]\ttrain-rmse:0.198806\teval-rmse:0.203751\ttrain-rmspe:0.217484\teval-rmspe:0.2221\n",
      "[29]\ttrain-rmse:0.196045\teval-rmse:0.200852\ttrain-rmspe:0.21534\teval-rmspe:0.220016\n",
      "[30]\ttrain-rmse:0.192609\teval-rmse:0.197689\ttrain-rmspe:0.212486\teval-rmspe:0.217373\n",
      "[31]\ttrain-rmse:0.190041\teval-rmse:0.194994\ttrain-rmspe:0.210149\teval-rmspe:0.214196\n",
      "[32]\ttrain-rmse:0.18873\teval-rmse:0.193933\ttrain-rmspe:0.209057\teval-rmspe:0.213515\n",
      "[33]\ttrain-rmse:0.185186\teval-rmse:0.190376\ttrain-rmspe:0.205346\teval-rmspe:0.208355\n",
      "[34]\ttrain-rmse:0.1813\teval-rmse:0.18648\ttrain-rmspe:0.200867\teval-rmspe:0.204025\n",
      "[35]\ttrain-rmse:0.179684\teval-rmse:0.185043\ttrain-rmspe:0.1991\teval-rmspe:0.202817\n",
      "[36]\ttrain-rmse:0.178385\teval-rmse:0.183918\ttrain-rmspe:0.197725\teval-rmspe:0.201859\n",
      "[37]\ttrain-rmse:0.174172\teval-rmse:0.180085\ttrain-rmspe:0.193361\teval-rmspe:0.197569\n",
      "[38]\ttrain-rmse:0.171769\teval-rmse:0.177779\ttrain-rmspe:0.19093\teval-rmspe:0.195357\n",
      "[39]\ttrain-rmse:0.170714\teval-rmse:0.176936\ttrain-rmspe:0.189867\teval-rmspe:0.194707\n",
      "[40]\ttrain-rmse:0.169988\teval-rmse:0.176217\ttrain-rmspe:0.189217\teval-rmspe:0.19407\n",
      "[41]\ttrain-rmse:0.166254\teval-rmse:0.172446\ttrain-rmspe:0.185167\teval-rmspe:0.18941\n",
      "[42]\ttrain-rmse:0.16165\teval-rmse:0.167822\ttrain-rmspe:0.180075\teval-rmspe:0.184115\n",
      "[43]\ttrain-rmse:0.159267\teval-rmse:0.165662\ttrain-rmspe:0.177542\teval-rmspe:0.181709\n",
      "[44]\ttrain-rmse:0.158351\teval-rmse:0.164828\ttrain-rmspe:0.176622\teval-rmspe:0.180777\n",
      "[45]\ttrain-rmse:0.154813\teval-rmse:0.161164\ttrain-rmspe:0.172883\teval-rmspe:0.176695\n",
      "[46]\ttrain-rmse:0.152529\teval-rmse:0.158869\ttrain-rmspe:0.170559\teval-rmspe:0.174347\n",
      "[47]\ttrain-rmse:0.151745\teval-rmse:0.158165\ttrain-rmspe:0.16955\teval-rmspe:0.173492\n",
      "[48]\ttrain-rmse:0.149143\teval-rmse:0.155304\ttrain-rmspe:0.166743\teval-rmspe:0.170487\n",
      "[49]\ttrain-rmse:0.148895\teval-rmse:0.155077\ttrain-rmspe:0.166496\teval-rmspe:0.170255\n",
      "[50]\ttrain-rmse:0.145189\teval-rmse:0.150805\ttrain-rmspe:0.16255\teval-rmspe:0.164036\n",
      "[51]\ttrain-rmse:0.144009\teval-rmse:0.149787\ttrain-rmspe:0.16133\teval-rmspe:0.16283\n",
      "[52]\ttrain-rmse:0.143412\teval-rmse:0.149111\ttrain-rmspe:0.16063\teval-rmspe:0.161948\n",
      "[53]\ttrain-rmse:0.141822\teval-rmse:0.147642\ttrain-rmspe:0.158937\teval-rmspe:0.160144\n",
      "[54]\ttrain-rmse:0.141562\teval-rmse:0.147305\ttrain-rmspe:0.15865\teval-rmspe:0.159676\n",
      "[55]\ttrain-rmse:0.140141\teval-rmse:0.146135\ttrain-rmspe:0.156788\teval-rmspe:0.158426\n",
      "[56]\ttrain-rmse:0.139065\teval-rmse:0.144968\ttrain-rmspe:0.155663\teval-rmspe:0.157147\n",
      "[57]\ttrain-rmse:0.137256\teval-rmse:0.143265\ttrain-rmspe:0.153526\teval-rmspe:0.155259\n",
      "[58]\ttrain-rmse:0.135324\teval-rmse:0.141258\ttrain-rmspe:0.151524\teval-rmspe:0.153028\n",
      "[59]\ttrain-rmse:0.134649\teval-rmse:0.140563\ttrain-rmspe:0.150855\teval-rmspe:0.152284\n",
      "[60]\ttrain-rmse:0.134134\teval-rmse:0.140006\ttrain-rmspe:0.15032\teval-rmspe:0.151732\n",
      "[61]\ttrain-rmse:0.132504\teval-rmse:0.138295\ttrain-rmspe:0.148661\teval-rmspe:0.149913\n",
      "[62]\ttrain-rmse:0.132287\teval-rmse:0.1381\ttrain-rmspe:0.148456\teval-rmspe:0.149718\n",
      "[63]\ttrain-rmse:0.131379\teval-rmse:0.137132\ttrain-rmspe:0.14753\teval-rmspe:0.148703\n",
      "[64]\ttrain-rmse:0.130574\teval-rmse:0.136383\ttrain-rmspe:0.146562\teval-rmspe:0.14797\n",
      "[65]\ttrain-rmse:0.129541\teval-rmse:0.135364\ttrain-rmspe:0.145482\teval-rmspe:0.14682\n",
      "[66]\ttrain-rmse:0.12852\teval-rmse:0.134547\ttrain-rmspe:0.144385\teval-rmspe:0.145959\n",
      "[67]\ttrain-rmse:0.128194\teval-rmse:0.134111\ttrain-rmspe:0.144002\teval-rmspe:0.145505\n",
      "[68]\ttrain-rmse:0.127918\teval-rmse:0.133825\ttrain-rmspe:0.143723\teval-rmspe:0.145264\n",
      "[69]\ttrain-rmse:0.126184\teval-rmse:0.132057\ttrain-rmspe:0.141794\teval-rmspe:0.143401\n",
      "[70]\ttrain-rmse:0.125247\teval-rmse:0.1314\ttrain-rmspe:0.140677\teval-rmspe:0.142754\n",
      "[71]\ttrain-rmse:0.124389\teval-rmse:0.130696\ttrain-rmspe:0.139823\teval-rmspe:0.142035\n",
      "[72]\ttrain-rmse:0.123134\teval-rmse:0.129284\ttrain-rmspe:0.138044\teval-rmspe:0.140425\n",
      "[73]\ttrain-rmse:0.12263\teval-rmse:0.128915\ttrain-rmspe:0.137231\teval-rmspe:0.140088\n",
      "[74]\ttrain-rmse:0.12201\teval-rmse:0.128414\ttrain-rmspe:0.136591\teval-rmspe:0.139585\n",
      "[75]\ttrain-rmse:0.120765\teval-rmse:0.127366\ttrain-rmspe:0.135235\teval-rmspe:0.138574\n",
      "[76]\ttrain-rmse:0.120234\teval-rmse:0.12698\ttrain-rmspe:0.134684\teval-rmspe:0.137998\n",
      "[77]\ttrain-rmse:0.119748\teval-rmse:0.12663\ttrain-rmspe:0.134178\teval-rmspe:0.13763\n",
      "[78]\ttrain-rmse:0.11922\teval-rmse:0.126186\ttrain-rmspe:0.133601\teval-rmspe:0.137167\n",
      "[79]\ttrain-rmse:0.118862\teval-rmse:0.125909\ttrain-rmspe:0.133092\teval-rmspe:0.136945\n",
      "[80]\ttrain-rmse:0.117528\teval-rmse:0.124617\ttrain-rmspe:0.131617\teval-rmspe:0.135664\n",
      "[81]\ttrain-rmse:0.117371\teval-rmse:0.124492\ttrain-rmspe:0.131462\teval-rmspe:0.135531\n",
      "[82]\ttrain-rmse:0.116626\teval-rmse:0.12373\ttrain-rmspe:0.13069\teval-rmspe:0.134754\n",
      "[83]\ttrain-rmse:0.116075\teval-rmse:0.123186\ttrain-rmspe:0.130144\teval-rmspe:0.134176\n",
      "[84]\ttrain-rmse:0.115328\teval-rmse:0.12249\ttrain-rmspe:0.129384\teval-rmspe:0.133407\n",
      "[85]\ttrain-rmse:0.114835\teval-rmse:0.121889\ttrain-rmspe:0.128847\teval-rmspe:0.131754\n",
      "[86]\ttrain-rmse:0.114373\teval-rmse:0.121432\ttrain-rmspe:0.128368\teval-rmspe:0.131295\n",
      "[87]\ttrain-rmse:0.113175\teval-rmse:0.120214\ttrain-rmspe:0.127177\teval-rmspe:0.130116\n",
      "[88]\ttrain-rmse:0.11243\teval-rmse:0.119547\ttrain-rmspe:0.126425\teval-rmspe:0.129404\n",
      "[89]\ttrain-rmse:0.111941\teval-rmse:0.119234\ttrain-rmspe:0.125729\teval-rmspe:0.129135\n",
      "[90]\ttrain-rmse:0.111588\teval-rmse:0.118815\ttrain-rmspe:0.12539\teval-rmspe:0.128711\n",
      "[91]\ttrain-rmse:0.111256\teval-rmse:0.118539\ttrain-rmspe:0.125067\teval-rmspe:0.128419\n",
      "[92]\ttrain-rmse:0.110711\teval-rmse:0.117969\ttrain-rmspe:0.124503\teval-rmspe:0.127856\n",
      "[93]\ttrain-rmse:0.110189\teval-rmse:0.117309\ttrain-rmspe:0.123872\teval-rmspe:0.126647\n",
      "[94]\ttrain-rmse:0.109447\teval-rmse:0.116722\ttrain-rmspe:0.122989\teval-rmspe:0.126059\n",
      "[95]\ttrain-rmse:0.108938\teval-rmse:0.11634\ttrain-rmspe:0.122456\teval-rmspe:0.125546\n",
      "[96]\ttrain-rmse:0.108486\teval-rmse:0.116009\ttrain-rmspe:0.121961\teval-rmspe:0.125211\n",
      "[97]\ttrain-rmse:0.108106\teval-rmse:0.115717\ttrain-rmspe:0.121564\teval-rmspe:0.124913\n",
      "[98]\ttrain-rmse:0.10724\teval-rmse:0.114959\ttrain-rmspe:0.120645\teval-rmspe:0.124108\n",
      "[99]\ttrain-rmse:0.106786\teval-rmse:0.114549\ttrain-rmspe:0.120128\teval-rmspe:0.123517\n",
      "[100]\ttrain-rmse:0.106353\teval-rmse:0.114341\ttrain-rmspe:0.119537\teval-rmspe:0.123269\n",
      "[101]\ttrain-rmse:0.106047\teval-rmse:0.114108\ttrain-rmspe:0.119082\teval-rmspe:0.123033\n",
      "[102]\ttrain-rmse:0.105498\teval-rmse:0.11361\ttrain-rmspe:0.118487\teval-rmspe:0.122417\n",
      "[103]\ttrain-rmse:0.105294\teval-rmse:0.113397\ttrain-rmspe:0.118297\teval-rmspe:0.122207\n",
      "[104]\ttrain-rmse:0.104348\teval-rmse:0.112512\ttrain-rmspe:0.116291\teval-rmspe:0.121197\n",
      "[105]\ttrain-rmse:0.103821\teval-rmse:0.11199\ttrain-rmspe:0.115756\teval-rmspe:0.120671\n",
      "[106]\ttrain-rmse:0.103327\teval-rmse:0.111435\ttrain-rmspe:0.115159\teval-rmspe:0.12013\n",
      "[107]\ttrain-rmse:0.102911\teval-rmse:0.111055\ttrain-rmspe:0.114718\teval-rmspe:0.119729\n",
      "[108]\ttrain-rmse:0.102607\teval-rmse:0.110859\ttrain-rmspe:0.114424\teval-rmspe:0.11953\n",
      "[109]\ttrain-rmse:0.102379\teval-rmse:0.11065\ttrain-rmspe:0.113841\teval-rmspe:0.119356\n",
      "[110]\ttrain-rmse:0.102084\teval-rmse:0.110378\ttrain-rmspe:0.113545\teval-rmspe:0.119026\n",
      "[111]\ttrain-rmse:0.10178\teval-rmse:0.110151\ttrain-rmspe:0.113237\teval-rmspe:0.118803\n",
      "[112]\ttrain-rmse:0.101695\teval-rmse:0.110066\ttrain-rmspe:0.113156\teval-rmspe:0.11872\n",
      "[113]\ttrain-rmse:0.101465\teval-rmse:0.109899\ttrain-rmspe:0.112943\teval-rmspe:0.118455\n",
      "[114]\ttrain-rmse:0.101256\teval-rmse:0.109746\ttrain-rmspe:0.112734\teval-rmspe:0.118304\n",
      "[115]\ttrain-rmse:0.101004\teval-rmse:0.109612\ttrain-rmspe:0.112366\teval-rmspe:0.118143\n",
      "[116]\ttrain-rmse:0.100591\teval-rmse:0.109252\ttrain-rmspe:0.111918\teval-rmspe:0.117751\n",
      "[117]\ttrain-rmse:0.099833\teval-rmse:0.108545\ttrain-rmspe:0.111189\teval-rmspe:0.116768\n",
      "[118]\ttrain-rmse:0.09951\teval-rmse:0.1082\ttrain-rmspe:0.110841\teval-rmspe:0.116472\n",
      "[119]\ttrain-rmse:0.099404\teval-rmse:0.108112\ttrain-rmspe:0.110722\teval-rmspe:0.116394\n",
      "[120]\ttrain-rmse:0.099235\teval-rmse:0.107962\ttrain-rmspe:0.110366\teval-rmspe:0.116249\n",
      "[121]\ttrain-rmse:0.0991\teval-rmse:0.107826\ttrain-rmspe:0.110214\teval-rmspe:0.116115\n",
      "[122]\ttrain-rmse:0.098724\teval-rmse:0.107615\ttrain-rmspe:0.10974\teval-rmspe:0.115931\n",
      "[123]\ttrain-rmse:0.098498\teval-rmse:0.107458\ttrain-rmspe:0.109393\teval-rmspe:0.11577\n",
      "[124]\ttrain-rmse:0.098083\teval-rmse:0.107132\ttrain-rmspe:0.10892\teval-rmspe:0.115428\n",
      "[125]\ttrain-rmse:0.097835\teval-rmse:0.106914\ttrain-rmspe:0.108674\teval-rmspe:0.115191\n",
      "[126]\ttrain-rmse:0.0976\teval-rmse:0.106596\ttrain-rmspe:0.108337\teval-rmspe:0.114879\n",
      "[127]\ttrain-rmse:0.097316\teval-rmse:0.106312\ttrain-rmspe:0.10802\teval-rmspe:0.114619\n",
      "[128]\ttrain-rmse:0.097241\teval-rmse:0.106251\ttrain-rmspe:0.107914\teval-rmspe:0.114477\n",
      "[129]\ttrain-rmse:0.096894\teval-rmse:0.105995\ttrain-rmspe:0.107444\teval-rmspe:0.114182\n",
      "[130]\ttrain-rmse:0.096826\teval-rmse:0.105969\ttrain-rmspe:0.107375\teval-rmspe:0.114152\n",
      "[131]\ttrain-rmse:0.096497\teval-rmse:0.105693\ttrain-rmspe:0.107022\teval-rmspe:0.113863\n",
      "[132]\ttrain-rmse:0.0964\teval-rmse:0.105618\ttrain-rmspe:0.106924\teval-rmspe:0.113813\n",
      "[133]\ttrain-rmse:0.096106\teval-rmse:0.105374\ttrain-rmspe:0.106626\teval-rmspe:0.113539\n",
      "[134]\ttrain-rmse:0.095768\teval-rmse:0.105067\ttrain-rmspe:0.106299\teval-rmspe:0.113287\n",
      "[135]\ttrain-rmse:0.095563\teval-rmse:0.104842\ttrain-rmspe:0.106097\teval-rmspe:0.113049\n",
      "[136]\ttrain-rmse:0.095294\teval-rmse:0.104695\ttrain-rmspe:0.105784\teval-rmspe:0.112888\n",
      "[137]\ttrain-rmse:0.09503\teval-rmse:0.104505\ttrain-rmspe:0.105491\teval-rmspe:0.112693\n",
      "[138]\ttrain-rmse:0.094878\teval-rmse:0.10443\ttrain-rmspe:0.105322\teval-rmspe:0.112607\n",
      "[139]\ttrain-rmse:0.094638\teval-rmse:0.104241\ttrain-rmspe:0.10508\teval-rmspe:0.112432\n",
      "[140]\ttrain-rmse:0.094429\teval-rmse:0.104082\ttrain-rmspe:0.104872\teval-rmspe:0.112318\n"
     ]
    },
    {
     "name": "stdout",
     "output_type": "stream",
     "text": [
      "[141]\ttrain-rmse:0.094227\teval-rmse:0.103973\ttrain-rmspe:0.104577\teval-rmspe:0.112201\n",
      "[142]\ttrain-rmse:0.094089\teval-rmse:0.103902\ttrain-rmspe:0.104423\teval-rmspe:0.112133\n",
      "[143]\ttrain-rmse:0.093918\teval-rmse:0.103842\ttrain-rmspe:0.104245\teval-rmspe:0.112091\n",
      "[144]\ttrain-rmse:0.093738\teval-rmse:0.103738\ttrain-rmspe:0.10402\teval-rmspe:0.111987\n",
      "[145]\ttrain-rmse:0.093516\teval-rmse:0.10356\ttrain-rmspe:0.10378\teval-rmspe:0.11182\n",
      "[146]\ttrain-rmse:0.09337\teval-rmse:0.103432\ttrain-rmspe:0.103632\teval-rmspe:0.111621\n",
      "[147]\ttrain-rmse:0.093205\teval-rmse:0.103321\ttrain-rmspe:0.103463\teval-rmspe:0.111546\n",
      "[148]\ttrain-rmse:0.092844\teval-rmse:0.103047\ttrain-rmspe:0.103101\teval-rmspe:0.111263\n",
      "[149]\ttrain-rmse:0.092681\teval-rmse:0.102962\ttrain-rmspe:0.102942\teval-rmspe:0.111177\n",
      "[150]\ttrain-rmse:0.092518\teval-rmse:0.102858\ttrain-rmspe:0.10261\teval-rmspe:0.110731\n",
      "[151]\ttrain-rmse:0.092306\teval-rmse:0.102631\ttrain-rmspe:0.10232\teval-rmspe:0.110622\n",
      "[152]\ttrain-rmse:0.092032\teval-rmse:0.102402\ttrain-rmspe:0.10204\teval-rmspe:0.110381\n",
      "[153]\ttrain-rmse:0.09187\teval-rmse:0.102331\ttrain-rmspe:0.101494\teval-rmspe:0.110316\n",
      "[154]\ttrain-rmse:0.091693\teval-rmse:0.102196\ttrain-rmspe:0.101282\teval-rmspe:0.110232\n",
      "[155]\ttrain-rmse:0.091406\teval-rmse:0.101974\ttrain-rmspe:0.100972\teval-rmspe:0.109999\n",
      "[156]\ttrain-rmse:0.091274\teval-rmse:0.101909\ttrain-rmspe:0.100827\teval-rmspe:0.109934\n",
      "[157]\ttrain-rmse:0.091167\teval-rmse:0.101849\ttrain-rmspe:0.100716\teval-rmspe:0.109892\n",
      "[158]\ttrain-rmse:0.090981\teval-rmse:0.101742\ttrain-rmspe:0.100466\teval-rmspe:0.109769\n",
      "[159]\ttrain-rmse:0.090757\teval-rmse:0.101557\ttrain-rmspe:0.100227\teval-rmspe:0.109574\n",
      "[160]\ttrain-rmse:0.090535\teval-rmse:0.101338\ttrain-rmspe:0.099986\teval-rmspe:0.109318\n",
      "[161]\ttrain-rmse:0.090299\teval-rmse:0.101169\ttrain-rmspe:0.09976\teval-rmspe:0.109149\n",
      "[162]\ttrain-rmse:0.09007\teval-rmse:0.10103\ttrain-rmspe:0.099465\teval-rmspe:0.10902\n",
      "[163]\ttrain-rmse:0.089905\teval-rmse:0.10094\ttrain-rmspe:0.099277\teval-rmspe:0.10892\n",
      "[164]\ttrain-rmse:0.089684\teval-rmse:0.100816\ttrain-rmspe:0.099069\teval-rmspe:0.108817\n",
      "[165]\ttrain-rmse:0.089532\teval-rmse:0.100738\ttrain-rmspe:0.098898\teval-rmspe:0.108731\n",
      "[166]\ttrain-rmse:0.08938\teval-rmse:0.100655\ttrain-rmspe:0.098731\teval-rmspe:0.108649\n",
      "[167]\ttrain-rmse:0.089242\teval-rmse:0.100582\ttrain-rmspe:0.098584\teval-rmspe:0.108579\n",
      "[168]\ttrain-rmse:0.089142\teval-rmse:0.100495\ttrain-rmspe:0.098471\teval-rmspe:0.108488\n",
      "[169]\ttrain-rmse:0.088981\teval-rmse:0.100369\ttrain-rmspe:0.098307\teval-rmspe:0.108348\n",
      "[170]\ttrain-rmse:0.08882\teval-rmse:0.100302\ttrain-rmspe:0.098162\teval-rmspe:0.108307\n",
      "[171]\ttrain-rmse:0.088704\teval-rmse:0.100223\ttrain-rmspe:0.098042\teval-rmspe:0.108226\n",
      "[172]\ttrain-rmse:0.088494\teval-rmse:0.100011\ttrain-rmspe:0.097811\teval-rmspe:0.107874\n",
      "[173]\ttrain-rmse:0.088406\teval-rmse:0.09997\ttrain-rmspe:0.097629\teval-rmspe:0.107836\n",
      "[174]\ttrain-rmse:0.088227\teval-rmse:0.099857\ttrain-rmspe:0.097425\teval-rmspe:0.107699\n",
      "[175]\ttrain-rmse:0.088085\teval-rmse:0.099764\ttrain-rmspe:0.097285\teval-rmspe:0.10761\n",
      "[176]\ttrain-rmse:0.08796\teval-rmse:0.099623\ttrain-rmspe:0.097141\teval-rmspe:0.107546\n",
      "[177]\ttrain-rmse:0.087856\teval-rmse:0.099593\ttrain-rmspe:0.097015\teval-rmspe:0.107541\n",
      "[178]\ttrain-rmse:0.087707\teval-rmse:0.099504\ttrain-rmspe:0.096835\teval-rmspe:0.107445\n",
      "[179]\ttrain-rmse:0.087606\teval-rmse:0.099436\ttrain-rmspe:0.096715\teval-rmspe:0.107399\n",
      "[180]\ttrain-rmse:0.087486\teval-rmse:0.099355\ttrain-rmspe:0.096582\teval-rmspe:0.107329\n",
      "[181]\ttrain-rmse:0.087394\teval-rmse:0.099274\ttrain-rmspe:0.09648\teval-rmspe:0.107156\n",
      "[182]\ttrain-rmse:0.08721\teval-rmse:0.099124\ttrain-rmspe:0.096271\teval-rmspe:0.107047\n",
      "[183]\ttrain-rmse:0.086964\teval-rmse:0.099029\ttrain-rmspe:0.09577\teval-rmspe:0.106897\n",
      "[184]\ttrain-rmse:0.086841\teval-rmse:0.09894\ttrain-rmspe:0.095645\teval-rmspe:0.106788\n",
      "[185]\ttrain-rmse:0.086781\teval-rmse:0.098932\ttrain-rmspe:0.095584\teval-rmspe:0.106783\n",
      "[186]\ttrain-rmse:0.086687\teval-rmse:0.098842\ttrain-rmspe:0.095472\teval-rmspe:0.106633\n",
      "[187]\ttrain-rmse:0.086628\teval-rmse:0.098885\ttrain-rmspe:0.095412\teval-rmspe:0.106666\n",
      "[188]\ttrain-rmse:0.086462\teval-rmse:0.098792\ttrain-rmspe:0.095164\teval-rmspe:0.106597\n",
      "[189]\ttrain-rmse:0.086331\teval-rmse:0.098728\ttrain-rmspe:0.095039\teval-rmspe:0.106572\n",
      "[190]\ttrain-rmse:0.086198\teval-rmse:0.098655\ttrain-rmspe:0.094873\teval-rmspe:0.106496\n",
      "[191]\ttrain-rmse:0.085934\teval-rmse:0.098558\ttrain-rmspe:0.094418\teval-rmspe:0.106391\n",
      "[192]\ttrain-rmse:0.085859\teval-rmse:0.098521\ttrain-rmspe:0.09434\teval-rmspe:0.106354\n",
      "[193]\ttrain-rmse:0.085778\teval-rmse:0.098512\ttrain-rmspe:0.094222\teval-rmspe:0.106343\n",
      "[194]\ttrain-rmse:0.085688\teval-rmse:0.098431\ttrain-rmspe:0.09398\teval-rmspe:0.106267\n",
      "[195]\ttrain-rmse:0.085632\teval-rmse:0.098376\ttrain-rmspe:0.0939\teval-rmspe:0.106184\n",
      "[196]\ttrain-rmse:0.085553\teval-rmse:0.098337\ttrain-rmspe:0.093804\teval-rmspe:0.106144\n",
      "[197]\ttrain-rmse:0.085401\teval-rmse:0.098318\ttrain-rmspe:0.093528\teval-rmspe:0.106128\n",
      "[198]\ttrain-rmse:0.085319\teval-rmse:0.09825\ttrain-rmspe:0.093434\teval-rmspe:0.1061\n",
      "[199]\ttrain-rmse:0.085219\teval-rmse:0.09818\ttrain-rmspe:0.093316\teval-rmspe:0.106035\n",
      "[200]\ttrain-rmse:0.085131\teval-rmse:0.098121\ttrain-rmspe:0.093224\teval-rmspe:0.105977\n",
      "[201]\ttrain-rmse:0.085054\teval-rmse:0.098091\ttrain-rmspe:0.093144\teval-rmspe:0.105953\n",
      "[202]\ttrain-rmse:0.084978\teval-rmse:0.098072\ttrain-rmspe:0.092961\teval-rmspe:0.105936\n",
      "[203]\ttrain-rmse:0.084865\teval-rmse:0.098041\ttrain-rmspe:0.09285\teval-rmspe:0.105937\n",
      "[204]\ttrain-rmse:0.084754\teval-rmse:0.097884\ttrain-rmspe:0.09274\teval-rmspe:0.105881\n",
      "[205]\ttrain-rmse:0.084678\teval-rmse:0.097857\ttrain-rmspe:0.092659\teval-rmspe:0.105845\n",
      "[206]\ttrain-rmse:0.084478\teval-rmse:0.097752\ttrain-rmspe:0.091896\teval-rmspe:0.105724\n",
      "[207]\ttrain-rmse:0.084384\teval-rmse:0.097705\ttrain-rmspe:0.091789\teval-rmspe:0.105691\n",
      "[208]\ttrain-rmse:0.084297\teval-rmse:0.097661\ttrain-rmspe:0.091693\teval-rmspe:0.105656\n",
      "[209]\ttrain-rmse:0.084182\teval-rmse:0.097617\ttrain-rmspe:0.091566\teval-rmspe:0.105617\n",
      "[210]\ttrain-rmse:0.08402\teval-rmse:0.097546\ttrain-rmspe:0.091349\teval-rmspe:0.105543\n",
      "[211]\ttrain-rmse:0.083877\teval-rmse:0.097448\ttrain-rmspe:0.091153\teval-rmspe:0.105461\n",
      "[212]\ttrain-rmse:0.083783\teval-rmse:0.09742\ttrain-rmspe:0.091033\teval-rmspe:0.105426\n",
      "[213]\ttrain-rmse:0.083689\teval-rmse:0.097335\ttrain-rmspe:0.0909\teval-rmspe:0.105354\n",
      "[214]\ttrain-rmse:0.083564\teval-rmse:0.097214\ttrain-rmspe:0.090726\teval-rmspe:0.105243\n",
      "[215]\ttrain-rmse:0.083498\teval-rmse:0.097202\ttrain-rmspe:0.090658\teval-rmspe:0.105237\n",
      "[216]\ttrain-rmse:0.083421\teval-rmse:0.097156\ttrain-rmspe:0.090576\teval-rmspe:0.105171\n",
      "[217]\ttrain-rmse:0.083387\teval-rmse:0.097136\ttrain-rmspe:0.090543\teval-rmspe:0.105151\n",
      "[218]\ttrain-rmse:0.083304\teval-rmse:0.097095\ttrain-rmspe:0.090416\teval-rmspe:0.10512\n",
      "[219]\ttrain-rmse:0.083212\teval-rmse:0.097055\ttrain-rmspe:0.090306\teval-rmspe:0.105054\n",
      "[220]\ttrain-rmse:0.083147\teval-rmse:0.097038\ttrain-rmspe:0.090229\teval-rmspe:0.105038\n",
      "[221]\ttrain-rmse:0.083101\teval-rmse:0.097023\ttrain-rmspe:0.090182\teval-rmspe:0.105031\n",
      "[222]\ttrain-rmse:0.082968\teval-rmse:0.096945\ttrain-rmspe:0.090021\teval-rmspe:0.104943\n",
      "[223]\ttrain-rmse:0.08281\teval-rmse:0.09679\ttrain-rmspe:0.089822\teval-rmspe:0.104694\n",
      "[224]\ttrain-rmse:0.082647\teval-rmse:0.096705\ttrain-rmspe:0.089622\teval-rmspe:0.104572\n",
      "[225]\ttrain-rmse:0.082583\teval-rmse:0.096669\ttrain-rmspe:0.089532\teval-rmspe:0.104542\n",
      "[226]\ttrain-rmse:0.082513\teval-rmse:0.096655\ttrain-rmspe:0.089441\teval-rmspe:0.104524\n",
      "[227]\ttrain-rmse:0.082448\teval-rmse:0.096641\ttrain-rmspe:0.089362\teval-rmspe:0.10452\n",
      "[228]\ttrain-rmse:0.082361\teval-rmse:0.096587\ttrain-rmspe:0.089275\teval-rmspe:0.104455\n",
      "[229]\ttrain-rmse:0.082278\teval-rmse:0.096543\ttrain-rmspe:0.089138\teval-rmspe:0.10442\n",
      "[230]\ttrain-rmse:0.082205\teval-rmse:0.096508\ttrain-rmspe:0.089047\teval-rmspe:0.104395\n",
      "[231]\ttrain-rmse:0.082061\teval-rmse:0.096455\ttrain-rmspe:0.088841\teval-rmspe:0.104344\n",
      "[232]\ttrain-rmse:0.081902\teval-rmse:0.09633\ttrain-rmspe:0.088669\teval-rmspe:0.104225\n",
      "[233]\ttrain-rmse:0.081825\teval-rmse:0.09629\ttrain-rmspe:0.088583\teval-rmspe:0.104196\n",
      "[234]\ttrain-rmse:0.081778\teval-rmse:0.096276\ttrain-rmspe:0.088532\teval-rmspe:0.104185\n",
      "[235]\ttrain-rmse:0.08169\teval-rmse:0.096224\ttrain-rmspe:0.088432\teval-rmspe:0.104025\n",
      "[236]\ttrain-rmse:0.081579\teval-rmse:0.096198\ttrain-rmspe:0.088021\teval-rmspe:0.103994\n",
      "[237]\ttrain-rmse:0.081457\teval-rmse:0.096154\ttrain-rmspe:0.087678\teval-rmspe:0.103948\n",
      "[238]\ttrain-rmse:0.081405\teval-rmse:0.096129\ttrain-rmspe:0.087627\teval-rmspe:0.103923\n",
      "[239]\ttrain-rmse:0.081324\teval-rmse:0.096137\ttrain-rmspe:0.087508\teval-rmspe:0.103934\n",
      "[240]\ttrain-rmse:0.081234\teval-rmse:0.096104\ttrain-rmspe:0.087405\teval-rmspe:0.103903\n",
      "[241]\ttrain-rmse:0.081089\teval-rmse:0.096062\ttrain-rmspe:0.087166\teval-rmspe:0.103761\n",
      "[242]\ttrain-rmse:0.08093\teval-rmse:0.095991\ttrain-rmspe:0.087001\teval-rmspe:0.10369\n",
      "[243]\ttrain-rmse:0.080881\teval-rmse:0.095975\ttrain-rmspe:0.086937\teval-rmspe:0.103664\n",
      "[244]\ttrain-rmse:0.080783\teval-rmse:0.095958\ttrain-rmspe:0.086829\teval-rmspe:0.103639\n",
      "[245]\ttrain-rmse:0.080649\teval-rmse:0.095979\ttrain-rmspe:0.086634\teval-rmspe:0.103696\n",
      "[246]\ttrain-rmse:0.08056\teval-rmse:0.095927\ttrain-rmspe:0.086534\teval-rmspe:0.103626\n",
      "[247]\ttrain-rmse:0.080489\teval-rmse:0.095922\ttrain-rmspe:0.086443\teval-rmspe:0.103608\n",
      "[248]\ttrain-rmse:0.080341\teval-rmse:0.095885\ttrain-rmspe:0.086147\teval-rmspe:0.103458\n",
      "[249]\ttrain-rmse:0.080237\teval-rmse:0.095868\ttrain-rmspe:0.086007\teval-rmspe:0.103464\n",
      "[250]\ttrain-rmse:0.080159\teval-rmse:0.095862\ttrain-rmspe:0.085936\teval-rmspe:0.103461\n",
      "[251]\ttrain-rmse:0.080077\teval-rmse:0.095837\ttrain-rmspe:0.085861\teval-rmspe:0.103499\n",
      "[252]\ttrain-rmse:0.079986\teval-rmse:0.095778\ttrain-rmspe:0.085762\teval-rmspe:0.103432\n",
      "[253]\ttrain-rmse:0.079861\teval-rmse:0.095713\ttrain-rmspe:0.085617\teval-rmspe:0.10336\n",
      "[254]\ttrain-rmse:0.079776\teval-rmse:0.095678\ttrain-rmspe:0.085483\teval-rmspe:0.103321\n",
      "[255]\ttrain-rmse:0.079692\teval-rmse:0.095639\ttrain-rmspe:0.085389\teval-rmspe:0.10326\n",
      "[256]\ttrain-rmse:0.079585\teval-rmse:0.095588\ttrain-rmspe:0.085248\teval-rmspe:0.103202\n",
      "[257]\ttrain-rmse:0.079494\teval-rmse:0.095545\ttrain-rmspe:0.085148\teval-rmspe:0.103154\n",
      "[258]\ttrain-rmse:0.079435\teval-rmse:0.095524\ttrain-rmspe:0.085079\teval-rmspe:0.103127\n",
      "[259]\ttrain-rmse:0.079373\teval-rmse:0.095499\ttrain-rmspe:0.084999\teval-rmspe:0.103042\n",
      "[260]\ttrain-rmse:0.07929\teval-rmse:0.095454\ttrain-rmspe:0.084914\teval-rmspe:0.102993\n",
      "[261]\ttrain-rmse:0.079177\teval-rmse:0.095411\ttrain-rmspe:0.084792\teval-rmspe:0.102949\n",
      "[262]\ttrain-rmse:0.079068\teval-rmse:0.09533\ttrain-rmspe:0.084671\teval-rmspe:0.102929\n",
      "[263]\ttrain-rmse:0.079017\teval-rmse:0.095313\ttrain-rmspe:0.084605\teval-rmspe:0.102925\n",
      "[264]\ttrain-rmse:0.078883\teval-rmse:0.095226\ttrain-rmspe:0.084352\teval-rmspe:0.10283\n",
      "[265]\ttrain-rmse:0.078814\teval-rmse:0.095244\ttrain-rmspe:0.084256\teval-rmspe:0.102792\n",
      "[266]\ttrain-rmse:0.078728\teval-rmse:0.095218\ttrain-rmspe:0.084167\teval-rmspe:0.102749\n",
      "[267]\ttrain-rmse:0.078666\teval-rmse:0.095216\ttrain-rmspe:0.084097\teval-rmspe:0.102742\n",
      "[268]\ttrain-rmse:0.078568\teval-rmse:0.09515\ttrain-rmspe:0.083954\teval-rmspe:0.102754\n",
      "[269]\ttrain-rmse:0.078523\teval-rmse:0.09509\ttrain-rmspe:0.083917\teval-rmspe:0.102762\n",
      "[270]\ttrain-rmse:0.07847\teval-rmse:0.095118\ttrain-rmspe:0.08383\teval-rmspe:0.102762\n",
      "[271]\ttrain-rmse:0.078411\teval-rmse:0.095077\ttrain-rmspe:0.083773\teval-rmspe:0.102719\n",
      "[272]\ttrain-rmse:0.07834\teval-rmse:0.095058\ttrain-rmspe:0.083687\teval-rmspe:0.102706\n",
      "[273]\ttrain-rmse:0.078213\teval-rmse:0.094987\ttrain-rmspe:0.08354\teval-rmspe:0.102629\n",
      "[274]\ttrain-rmse:0.078122\teval-rmse:0.094943\ttrain-rmspe:0.083453\teval-rmspe:0.10261\n",
      "[275]\ttrain-rmse:0.078047\teval-rmse:0.094917\ttrain-rmspe:0.08337\teval-rmspe:0.102576\n",
      "[276]\ttrain-rmse:0.077962\teval-rmse:0.094872\ttrain-rmspe:0.083275\teval-rmspe:0.102554\n",
      "[277]\ttrain-rmse:0.07785\teval-rmse:0.09484\ttrain-rmspe:0.083091\teval-rmspe:0.102518\n",
      "[278]\ttrain-rmse:0.077787\teval-rmse:0.094832\ttrain-rmspe:0.083021\teval-rmspe:0.102493\n",
      "[279]\ttrain-rmse:0.077742\teval-rmse:0.094825\ttrain-rmspe:0.082975\teval-rmspe:0.102488\n",
      "[280]\ttrain-rmse:0.077676\teval-rmse:0.094802\ttrain-rmspe:0.082908\teval-rmspe:0.102461\n",
      "[281]\ttrain-rmse:0.077624\teval-rmse:0.094775\ttrain-rmspe:0.082856\teval-rmspe:0.102436\n"
     ]
    },
    {
     "name": "stdout",
     "output_type": "stream",
     "text": [
      "[282]\ttrain-rmse:0.07753\teval-rmse:0.094724\ttrain-rmspe:0.082742\teval-rmspe:0.102325\n",
      "[283]\ttrain-rmse:0.077501\teval-rmse:0.094714\ttrain-rmspe:0.082709\teval-rmspe:0.102332\n",
      "[284]\ttrain-rmse:0.07742\teval-rmse:0.094683\ttrain-rmspe:0.082587\teval-rmspe:0.102299\n",
      "[285]\ttrain-rmse:0.077319\teval-rmse:0.094686\ttrain-rmspe:0.082449\teval-rmspe:0.102288\n",
      "[286]\ttrain-rmse:0.077249\teval-rmse:0.094669\ttrain-rmspe:0.082376\teval-rmspe:0.102283\n",
      "[287]\ttrain-rmse:0.077138\teval-rmse:0.094611\ttrain-rmspe:0.082259\teval-rmspe:0.102231\n",
      "[288]\ttrain-rmse:0.07709\teval-rmse:0.094584\ttrain-rmspe:0.082202\teval-rmspe:0.102208\n",
      "[289]\ttrain-rmse:0.077012\teval-rmse:0.094546\ttrain-rmspe:0.08211\teval-rmspe:0.102199\n",
      "[290]\ttrain-rmse:0.07694\teval-rmse:0.094496\ttrain-rmspe:0.082021\teval-rmspe:0.102146\n",
      "[291]\ttrain-rmse:0.076842\teval-rmse:0.094443\ttrain-rmspe:0.081908\teval-rmspe:0.102174\n",
      "[292]\ttrain-rmse:0.076719\teval-rmse:0.094387\ttrain-rmspe:0.081766\teval-rmspe:0.102113\n",
      "[293]\ttrain-rmse:0.076631\teval-rmse:0.094317\ttrain-rmspe:0.081673\teval-rmspe:0.102037\n",
      "[294]\ttrain-rmse:0.076581\teval-rmse:0.094335\ttrain-rmspe:0.081614\teval-rmspe:0.102086\n",
      "[295]\ttrain-rmse:0.076551\teval-rmse:0.094336\ttrain-rmspe:0.08158\teval-rmspe:0.102102\n",
      "[296]\ttrain-rmse:0.076482\teval-rmse:0.094332\ttrain-rmspe:0.081496\teval-rmspe:0.102099\n",
      "[297]\ttrain-rmse:0.076419\teval-rmse:0.094325\ttrain-rmspe:0.081383\teval-rmspe:0.102099\n",
      "[298]\ttrain-rmse:0.076359\teval-rmse:0.09431\ttrain-rmspe:0.081324\teval-rmspe:0.102096\n",
      "[299]\ttrain-rmse:0.076315\teval-rmse:0.094295\ttrain-rmspe:0.081278\teval-rmspe:0.102093\n",
      "[300]\ttrain-rmse:0.076237\teval-rmse:0.094258\ttrain-rmspe:0.081182\teval-rmspe:0.102068\n",
      "[301]\ttrain-rmse:0.076195\teval-rmse:0.094261\ttrain-rmspe:0.081129\teval-rmspe:0.102078\n",
      "[302]\ttrain-rmse:0.07615\teval-rmse:0.094256\ttrain-rmspe:0.081078\teval-rmspe:0.102075\n",
      "[303]\ttrain-rmse:0.076086\teval-rmse:0.094255\ttrain-rmspe:0.080989\teval-rmspe:0.102074\n",
      "[304]\ttrain-rmse:0.076004\teval-rmse:0.094204\ttrain-rmspe:0.080909\teval-rmspe:0.10206\n",
      "[305]\ttrain-rmse:0.075948\teval-rmse:0.094191\ttrain-rmspe:0.080852\teval-rmspe:0.102086\n",
      "[306]\ttrain-rmse:0.075893\teval-rmse:0.094155\ttrain-rmspe:0.080797\teval-rmspe:0.102049\n",
      "[307]\ttrain-rmse:0.075865\teval-rmse:0.09415\ttrain-rmspe:0.080761\teval-rmspe:0.102046\n",
      "[308]\ttrain-rmse:0.075821\teval-rmse:0.094121\ttrain-rmspe:0.080711\teval-rmspe:0.102027\n",
      "[309]\ttrain-rmse:0.075748\teval-rmse:0.094092\ttrain-rmspe:0.080598\teval-rmspe:0.101998\n",
      "[310]\ttrain-rmse:0.075653\teval-rmse:0.09407\ttrain-rmspe:0.08049\teval-rmspe:0.10198\n",
      "[311]\ttrain-rmse:0.07561\teval-rmse:0.094058\ttrain-rmspe:0.080444\teval-rmspe:0.101965\n",
      "[312]\ttrain-rmse:0.075566\teval-rmse:0.094055\ttrain-rmspe:0.080379\teval-rmspe:0.101962\n",
      "[313]\ttrain-rmse:0.075497\teval-rmse:0.094042\ttrain-rmspe:0.080304\teval-rmspe:0.10195\n",
      "[314]\ttrain-rmse:0.075452\teval-rmse:0.094075\ttrain-rmspe:0.080246\teval-rmspe:0.102064\n",
      "[315]\ttrain-rmse:0.075365\teval-rmse:0.094059\ttrain-rmspe:0.08013\teval-rmspe:0.102036\n",
      "[316]\ttrain-rmse:0.075319\teval-rmse:0.094033\ttrain-rmspe:0.080082\teval-rmspe:0.102008\n",
      "[317]\ttrain-rmse:0.075233\teval-rmse:0.093994\ttrain-rmspe:0.079965\teval-rmspe:0.101963\n",
      "[318]\ttrain-rmse:0.075189\teval-rmse:0.093994\ttrain-rmspe:0.079909\teval-rmspe:0.101965\n",
      "[319]\ttrain-rmse:0.075074\teval-rmse:0.093864\ttrain-rmspe:0.07979\teval-rmspe:0.101901\n",
      "[320]\ttrain-rmse:0.074987\teval-rmse:0.09387\ttrain-rmspe:0.079674\teval-rmspe:0.101903\n",
      "[321]\ttrain-rmse:0.074916\teval-rmse:0.093886\ttrain-rmspe:0.079572\teval-rmspe:0.101917\n",
      "[322]\ttrain-rmse:0.074875\teval-rmse:0.09381\ttrain-rmspe:0.079531\teval-rmspe:0.101887\n",
      "[323]\ttrain-rmse:0.074775\teval-rmse:0.09377\ttrain-rmspe:0.079427\teval-rmspe:0.101826\n",
      "[324]\ttrain-rmse:0.074722\teval-rmse:0.093756\ttrain-rmspe:0.079371\teval-rmspe:0.101817\n",
      "[325]\ttrain-rmse:0.074645\teval-rmse:0.093713\ttrain-rmspe:0.07929\teval-rmspe:0.101748\n",
      "[326]\ttrain-rmse:0.074604\teval-rmse:0.093622\ttrain-rmspe:0.079236\teval-rmspe:0.101668\n",
      "[327]\ttrain-rmse:0.074524\teval-rmse:0.093597\ttrain-rmspe:0.079142\teval-rmspe:0.101646\n",
      "[328]\ttrain-rmse:0.074476\teval-rmse:0.093551\ttrain-rmspe:0.079091\teval-rmspe:0.101556\n",
      "[329]\ttrain-rmse:0.074409\teval-rmse:0.093536\ttrain-rmspe:0.078981\teval-rmspe:0.101542\n",
      "[330]\ttrain-rmse:0.074332\teval-rmse:0.093501\ttrain-rmspe:0.078899\teval-rmspe:0.101554\n",
      "[331]\ttrain-rmse:0.074276\teval-rmse:0.093487\ttrain-rmspe:0.078829\teval-rmspe:0.10153\n",
      "[332]\ttrain-rmse:0.074214\teval-rmse:0.093476\ttrain-rmspe:0.07875\teval-rmspe:0.101525\n",
      "[333]\ttrain-rmse:0.074137\teval-rmse:0.093451\ttrain-rmspe:0.078633\teval-rmspe:0.101528\n",
      "[334]\ttrain-rmse:0.074075\teval-rmse:0.093448\ttrain-rmspe:0.078559\teval-rmspe:0.101526\n",
      "[335]\ttrain-rmse:0.074002\teval-rmse:0.093442\ttrain-rmspe:0.078476\teval-rmspe:0.101506\n",
      "[336]\ttrain-rmse:0.073958\teval-rmse:0.093425\ttrain-rmspe:0.078421\teval-rmspe:0.101487\n",
      "[337]\ttrain-rmse:0.073932\teval-rmse:0.093409\ttrain-rmspe:0.078398\teval-rmspe:0.101474\n",
      "[338]\ttrain-rmse:0.073874\teval-rmse:0.09337\ttrain-rmspe:0.078325\teval-rmspe:0.10144\n",
      "[339]\ttrain-rmse:0.073794\teval-rmse:0.093353\ttrain-rmspe:0.078224\teval-rmspe:0.101436\n",
      "[340]\ttrain-rmse:0.073742\teval-rmse:0.093358\ttrain-rmspe:0.078164\teval-rmspe:0.101451\n",
      "[341]\ttrain-rmse:0.073673\teval-rmse:0.093261\ttrain-rmspe:0.078067\teval-rmspe:0.101406\n",
      "[342]\ttrain-rmse:0.073587\teval-rmse:0.093261\ttrain-rmspe:0.077957\teval-rmspe:0.101381\n",
      "[343]\ttrain-rmse:0.07352\teval-rmse:0.09324\ttrain-rmspe:0.077876\teval-rmspe:0.101365\n",
      "[344]\ttrain-rmse:0.073449\teval-rmse:0.093221\ttrain-rmspe:0.077802\teval-rmspe:0.101353\n",
      "[345]\ttrain-rmse:0.073355\teval-rmse:0.093205\ttrain-rmspe:0.07768\teval-rmspe:0.101333\n",
      "[346]\ttrain-rmse:0.073287\teval-rmse:0.093184\ttrain-rmspe:0.077596\teval-rmspe:0.101314\n",
      "[347]\ttrain-rmse:0.073246\teval-rmse:0.093161\ttrain-rmspe:0.077554\teval-rmspe:0.10131\n",
      "[348]\ttrain-rmse:0.073175\teval-rmse:0.093149\ttrain-rmspe:0.077464\teval-rmspe:0.101309\n",
      "[349]\ttrain-rmse:0.073095\teval-rmse:0.093156\ttrain-rmspe:0.077362\teval-rmspe:0.101346\n",
      "[350]\ttrain-rmse:0.073042\teval-rmse:0.09315\ttrain-rmspe:0.077297\teval-rmspe:0.101353\n",
      "[351]\ttrain-rmse:0.07301\teval-rmse:0.093127\ttrain-rmspe:0.07726\teval-rmspe:0.10133\n",
      "[352]\ttrain-rmse:0.072939\teval-rmse:0.093128\ttrain-rmspe:0.077184\teval-rmspe:0.101397\n",
      "[353]\ttrain-rmse:0.072875\teval-rmse:0.09309\ttrain-rmspe:0.077099\teval-rmspe:0.101405\n",
      "[354]\ttrain-rmse:0.072823\teval-rmse:0.093055\ttrain-rmspe:0.077045\teval-rmspe:0.101338\n",
      "[355]\ttrain-rmse:0.072755\teval-rmse:0.093028\ttrain-rmspe:0.076963\teval-rmspe:0.101312\n",
      "[356]\ttrain-rmse:0.072689\teval-rmse:0.093029\ttrain-rmspe:0.076878\teval-rmspe:0.101316\n",
      "[357]\ttrain-rmse:0.072651\teval-rmse:0.092983\ttrain-rmspe:0.076832\teval-rmspe:0.101285\n",
      "[358]\ttrain-rmse:0.072584\teval-rmse:0.092947\ttrain-rmspe:0.076755\teval-rmspe:0.101263\n",
      "[359]\ttrain-rmse:0.072533\teval-rmse:0.092942\ttrain-rmspe:0.076706\teval-rmspe:0.101264\n",
      "[360]\ttrain-rmse:0.072466\teval-rmse:0.092941\ttrain-rmspe:0.076634\teval-rmspe:0.101266\n",
      "[361]\ttrain-rmse:0.072403\teval-rmse:0.092938\ttrain-rmspe:0.076544\teval-rmspe:0.101199\n",
      "[362]\ttrain-rmse:0.072331\teval-rmse:0.092897\ttrain-rmspe:0.076447\teval-rmspe:0.101149\n",
      "[363]\ttrain-rmse:0.072279\teval-rmse:0.092887\ttrain-rmspe:0.076372\teval-rmspe:0.101104\n",
      "[364]\ttrain-rmse:0.072214\teval-rmse:0.092905\ttrain-rmspe:0.076294\teval-rmspe:0.10135\n",
      "[365]\ttrain-rmse:0.072138\teval-rmse:0.092894\ttrain-rmspe:0.076208\teval-rmspe:0.101348\n",
      "[366]\ttrain-rmse:0.072062\teval-rmse:0.092941\ttrain-rmspe:0.07612\teval-rmspe:0.101376\n",
      "[367]\ttrain-rmse:0.071995\teval-rmse:0.092782\ttrain-rmspe:0.076052\teval-rmspe:0.101231\n",
      "[368]\ttrain-rmse:0.071943\teval-rmse:0.092772\ttrain-rmspe:0.075993\teval-rmspe:0.101237\n",
      "[369]\ttrain-rmse:0.071887\teval-rmse:0.092772\ttrain-rmspe:0.075935\teval-rmspe:0.101238\n",
      "[370]\ttrain-rmse:0.071824\teval-rmse:0.092705\ttrain-rmspe:0.075857\teval-rmspe:0.101191\n",
      "[371]\ttrain-rmse:0.071775\teval-rmse:0.09267\ttrain-rmspe:0.075795\teval-rmspe:0.101146\n",
      "[372]\ttrain-rmse:0.071707\teval-rmse:0.092633\ttrain-rmspe:0.075719\teval-rmspe:0.101104\n",
      "[373]\ttrain-rmse:0.071661\teval-rmse:0.092601\ttrain-rmspe:0.075664\teval-rmspe:0.101054\n",
      "[374]\ttrain-rmse:0.071588\teval-rmse:0.092594\ttrain-rmspe:0.075551\teval-rmspe:0.101096\n",
      "[375]\ttrain-rmse:0.071537\teval-rmse:0.09262\ttrain-rmspe:0.07548\teval-rmspe:0.101218\n",
      "[376]\ttrain-rmse:0.071489\teval-rmse:0.092639\ttrain-rmspe:0.075434\teval-rmspe:0.101251\n",
      "[377]\ttrain-rmse:0.071387\teval-rmse:0.092662\ttrain-rmspe:0.07525\teval-rmspe:0.101257\n",
      "[378]\ttrain-rmse:0.071306\teval-rmse:0.092654\ttrain-rmspe:0.075152\teval-rmspe:0.101257\n",
      "[379]\ttrain-rmse:0.071257\teval-rmse:0.092636\ttrain-rmspe:0.075099\teval-rmspe:0.101257\n",
      "[380]\ttrain-rmse:0.071191\teval-rmse:0.09261\ttrain-rmspe:0.075023\teval-rmspe:0.101233\n",
      "[381]\ttrain-rmse:0.071154\teval-rmse:0.092602\ttrain-rmspe:0.074977\teval-rmspe:0.101243\n",
      "[382]\ttrain-rmse:0.071093\teval-rmse:0.092569\ttrain-rmspe:0.074912\teval-rmspe:0.101204\n",
      "[383]\ttrain-rmse:0.071037\teval-rmse:0.092541\ttrain-rmspe:0.074839\teval-rmspe:0.101186\n",
      "[384]\ttrain-rmse:0.070987\teval-rmse:0.092433\ttrain-rmspe:0.074788\teval-rmspe:0.10113\n",
      "[385]\ttrain-rmse:0.070921\teval-rmse:0.092391\ttrain-rmspe:0.074717\teval-rmspe:0.101097\n",
      "[386]\ttrain-rmse:0.070876\teval-rmse:0.092399\ttrain-rmspe:0.074669\teval-rmspe:0.101128\n",
      "[387]\ttrain-rmse:0.070812\teval-rmse:0.092356\ttrain-rmspe:0.074574\teval-rmspe:0.101091\n",
      "[388]\ttrain-rmse:0.070747\teval-rmse:0.092353\ttrain-rmspe:0.074462\teval-rmspe:0.101089\n",
      "[389]\ttrain-rmse:0.07068\teval-rmse:0.092342\ttrain-rmspe:0.074391\teval-rmspe:0.101086\n",
      "[390]\ttrain-rmse:0.070625\teval-rmse:0.092317\ttrain-rmspe:0.074336\teval-rmspe:0.101063\n",
      "[391]\ttrain-rmse:0.070595\teval-rmse:0.092354\ttrain-rmspe:0.074307\teval-rmspe:0.101121\n",
      "[392]\ttrain-rmse:0.070554\teval-rmse:0.092349\ttrain-rmspe:0.07425\teval-rmspe:0.101152\n",
      "[393]\ttrain-rmse:0.070525\teval-rmse:0.09234\ttrain-rmspe:0.074215\teval-rmspe:0.101152\n",
      "[394]\ttrain-rmse:0.070481\teval-rmse:0.092307\ttrain-rmspe:0.074167\teval-rmspe:0.101184\n",
      "[395]\ttrain-rmse:0.070441\teval-rmse:0.092293\ttrain-rmspe:0.074117\teval-rmspe:0.101182\n",
      "[396]\ttrain-rmse:0.070406\teval-rmse:0.092285\ttrain-rmspe:0.074082\teval-rmspe:0.101176\n",
      "[397]\ttrain-rmse:0.070332\teval-rmse:0.092237\ttrain-rmspe:0.074008\teval-rmspe:0.101148\n",
      "[398]\ttrain-rmse:0.070267\teval-rmse:0.092242\ttrain-rmspe:0.073945\teval-rmspe:0.101158\n",
      "[399]\ttrain-rmse:0.070215\teval-rmse:0.092256\ttrain-rmspe:0.073894\teval-rmspe:0.101211\n",
      "[400]\ttrain-rmse:0.070163\teval-rmse:0.092255\ttrain-rmspe:0.073824\teval-rmspe:0.101205\n",
      "[401]\ttrain-rmse:0.07011\teval-rmse:0.092205\ttrain-rmspe:0.073765\teval-rmspe:0.101121\n",
      "[402]\ttrain-rmse:0.070069\teval-rmse:0.092193\ttrain-rmspe:0.073718\teval-rmspe:0.101108\n",
      "[403]\ttrain-rmse:0.070008\teval-rmse:0.092179\ttrain-rmspe:0.073651\teval-rmspe:0.101097\n",
      "[404]\ttrain-rmse:0.069948\teval-rmse:0.092143\ttrain-rmspe:0.073578\teval-rmspe:0.101042\n",
      "[405]\ttrain-rmse:0.06988\teval-rmse:0.092144\ttrain-rmspe:0.073502\teval-rmspe:0.101168\n",
      "[406]\ttrain-rmse:0.069816\teval-rmse:0.092097\ttrain-rmspe:0.073413\teval-rmspe:0.101103\n",
      "[407]\ttrain-rmse:0.069772\teval-rmse:0.092079\ttrain-rmspe:0.073365\teval-rmspe:0.10105\n",
      "[408]\ttrain-rmse:0.06972\teval-rmse:0.092062\ttrain-rmspe:0.073307\teval-rmspe:0.101026\n",
      "[409]\ttrain-rmse:0.069687\teval-rmse:0.092047\ttrain-rmspe:0.073271\teval-rmspe:0.101018\n",
      "[410]\ttrain-rmse:0.06963\teval-rmse:0.092051\ttrain-rmspe:0.073214\teval-rmspe:0.101022\n",
      "[411]\ttrain-rmse:0.069593\teval-rmse:0.092027\ttrain-rmspe:0.073174\teval-rmspe:0.100994\n",
      "[412]\ttrain-rmse:0.06957\teval-rmse:0.092013\ttrain-rmspe:0.073149\teval-rmspe:0.100986\n",
      "[413]\ttrain-rmse:0.069486\teval-rmse:0.091987\ttrain-rmspe:0.073052\teval-rmspe:0.10096\n",
      "[414]\ttrain-rmse:0.069401\teval-rmse:0.091959\ttrain-rmspe:0.072926\teval-rmspe:0.100915\n",
      "[415]\ttrain-rmse:0.069371\teval-rmse:0.091963\ttrain-rmspe:0.072891\teval-rmspe:0.100908\n",
      "[416]\ttrain-rmse:0.069323\teval-rmse:0.09194\ttrain-rmspe:0.072841\teval-rmspe:0.100892\n",
      "[417]\ttrain-rmse:0.069293\teval-rmse:0.09195\ttrain-rmspe:0.072807\teval-rmspe:0.101011\n",
      "[418]\ttrain-rmse:0.069238\teval-rmse:0.091929\ttrain-rmspe:0.072741\teval-rmspe:0.100993\n",
      "[419]\ttrain-rmse:0.069188\teval-rmse:0.091918\ttrain-rmspe:0.072689\teval-rmspe:0.100984\n",
      "[420]\ttrain-rmse:0.069128\teval-rmse:0.091926\ttrain-rmspe:0.072613\teval-rmspe:0.100987\n",
      "[421]\ttrain-rmse:0.069069\teval-rmse:0.091958\ttrain-rmspe:0.072543\teval-rmspe:0.10136\n",
      "[422]\ttrain-rmse:0.06903\teval-rmse:0.091971\ttrain-rmspe:0.072502\teval-rmspe:0.101373\n"
     ]
    },
    {
     "name": "stdout",
     "output_type": "stream",
     "text": [
      "[423]\ttrain-rmse:0.068978\teval-rmse:0.091923\ttrain-rmspe:0.072445\teval-rmspe:0.101339\n",
      "[424]\ttrain-rmse:0.068917\teval-rmse:0.091893\ttrain-rmspe:0.072378\teval-rmspe:0.101301\n",
      "[425]\ttrain-rmse:0.068853\teval-rmse:0.091946\ttrain-rmspe:0.072278\teval-rmspe:0.101372\n",
      "[426]\ttrain-rmse:0.068801\teval-rmse:0.091942\ttrain-rmspe:0.072222\teval-rmspe:0.101369\n",
      "[427]\ttrain-rmse:0.068761\teval-rmse:0.091928\ttrain-rmspe:0.07218\teval-rmspe:0.101357\n",
      "[428]\ttrain-rmse:0.068731\teval-rmse:0.091921\ttrain-rmspe:0.072143\teval-rmspe:0.101349\n",
      "[429]\ttrain-rmse:0.06868\teval-rmse:0.091895\ttrain-rmspe:0.072089\teval-rmspe:0.101286\n",
      "[430]\ttrain-rmse:0.068626\teval-rmse:0.091857\ttrain-rmspe:0.072032\teval-rmspe:0.101251\n",
      "[431]\ttrain-rmse:0.068605\teval-rmse:0.091841\ttrain-rmspe:0.072011\teval-rmspe:0.101221\n",
      "[432]\ttrain-rmse:0.068573\teval-rmse:0.091842\ttrain-rmspe:0.071974\teval-rmspe:0.101212\n",
      "[433]\ttrain-rmse:0.068529\teval-rmse:0.091863\ttrain-rmspe:0.071919\teval-rmspe:0.101233\n",
      "[434]\ttrain-rmse:0.068494\teval-rmse:0.091885\ttrain-rmspe:0.071875\teval-rmspe:0.10125\n",
      "[435]\ttrain-rmse:0.068462\teval-rmse:0.09189\ttrain-rmspe:0.071842\teval-rmspe:0.101247\n",
      "[436]\ttrain-rmse:0.068432\teval-rmse:0.091906\ttrain-rmspe:0.071808\teval-rmspe:0.101296\n",
      "[437]\ttrain-rmse:0.068385\teval-rmse:0.091894\ttrain-rmspe:0.071743\teval-rmspe:0.101282\n",
      "[438]\ttrain-rmse:0.068331\teval-rmse:0.091884\ttrain-rmspe:0.071681\teval-rmspe:0.10127\n",
      "[439]\ttrain-rmse:0.068281\teval-rmse:0.091944\ttrain-rmspe:0.071633\teval-rmspe:0.101401\n",
      "[440]\ttrain-rmse:0.068227\teval-rmse:0.091924\ttrain-rmspe:0.071548\teval-rmspe:0.101369\n",
      "[441]\ttrain-rmse:0.06819\teval-rmse:0.091922\ttrain-rmspe:0.071506\teval-rmspe:0.101366\n",
      "[442]\ttrain-rmse:0.068144\teval-rmse:0.091919\ttrain-rmspe:0.071457\teval-rmspe:0.101358\n",
      "[443]\ttrain-rmse:0.068118\teval-rmse:0.09191\ttrain-rmspe:0.071416\teval-rmspe:0.10136\n",
      "[444]\ttrain-rmse:0.068061\teval-rmse:0.09189\ttrain-rmspe:0.071338\teval-rmspe:0.101322\n",
      "[445]\ttrain-rmse:0.068003\teval-rmse:0.091874\ttrain-rmspe:0.071277\teval-rmspe:0.101315\n",
      "[446]\ttrain-rmse:0.067975\teval-rmse:0.091869\ttrain-rmspe:0.071254\teval-rmspe:0.101279\n",
      "[447]\ttrain-rmse:0.06794\teval-rmse:0.091863\ttrain-rmspe:0.071206\teval-rmspe:0.101273\n",
      "[448]\ttrain-rmse:0.067885\teval-rmse:0.091857\ttrain-rmspe:0.071148\teval-rmspe:0.101283\n",
      "[449]\ttrain-rmse:0.067822\teval-rmse:0.091837\ttrain-rmspe:0.071078\teval-rmspe:0.101294\n",
      "Validating\n",
      "RMSPE: 0.101294\n",
      "Make predictions on the test set\n"
     ]
    },
    {
     "data": {
      "image/png": "[encoded data removed]",
      "text/plain": [
       "<matplotlib.figure.Figure at 0x7f664701fe80>"
      ]
     },
     "metadata": {
      "tags": []
     },
     "output_type": "display_data"
    }
   ],
   "source": [
    "\n",
    "#Model building - XG Boost\n",
    "\n",
    "params = {\"objective\": \"reg:linear\",\n",
    "          \"booster\" : \"gbtree\",\n",
    "          \"eta\": 0.2,\n",
    "          \"max_depth\": 10,\n",
    "          \"subsample\": 0.80,\n",
    "          \"colsample_bytree\": 0.75,\n",
    "          \"silent\": 1,\n",
    "          \"seed\": 1\n",
    "          }\n",
    "num_boost_round = 450 #number of iterations\n",
    "\n",
    "\n",
    "def rmspe_xg(yhat, y):\n",
    "    y = np.expm1(y.get_label()) \n",
    "    yhat = np.expm1(yhat)\n",
    "    return \"rmspe\", rmspe(y,yhat)\n",
    "\n",
    "\n",
    "\n",
    "dtrain = xgb.DMatrix(X_train[features], y_train)\n",
    "dvalid = xgb.DMatrix(X_val[features], y_val)\n",
    "\n",
    "wl = [(dtrain, 'train'), (dvalid, 'eval')]\n",
    "print(\"Train a XGBoost model\")\n",
    "gbm = xgb.train(params, dtrain, num_boost_round, evals=wl, \\\n",
    "  early_stopping_rounds=100, feval=rmspe_xg, verbose_eval=True)\n",
    "\n",
    "print(\"Validating\")\n",
    "yhat = gbm.predict(xgb.DMatrix(X_val[features]))\n",
    "error = rmspe(X_val.Sales.values, np.expm1(yhat))\n",
    "print('RMSPE: {:.6f}'.format(error))\n",
    "#RMSPE - Root Mean Square Percentage Error \n",
    "\n",
    "test['StateHoliday'] = test['StateHoliday'].astype('int32')\n",
    "print(\"Make predictions on the test set\")\n",
    "dtest = xgb.DMatrix(test[features])\n",
    "test_probs = gbm.predict(dtest)\n",
    "\n",
    "\n",
    "\n",
    "#feature importances\n",
    "\n",
    "def create_feature_map(features):\n",
    "    outfile = open('xgb.fmap', 'w')\n",
    "    for i, feat in enumerate(features):\n",
    "        outfile.write('{0}\\t{1}\\tq\\n'.format(i, feat))\n",
    "    outfile.close()\n",
    "\n",
    "create_feature_map(features)\n",
    "importance = gbm.get_fscore(fmap='xgb.fmap')\n",
    "importance = sorted(importance.items(), key=operator.itemgetter(1))\n",
    "\n",
    "df = pd.DataFrame(importance, columns=['feature', 'fscore'])\n",
    "df['fscore'] = df['fscore'] / df['fscore'].sum()\n",
    "\n",
    "featp = df.plot(kind='barh', x='feature', y='fscore', legend=False, figsize=(6, 10))\n",
    "plt.title('XGBoost Feature Importance')\n",
    "plt.xlabel('relative importance')\n",
    "fig_featp = featp.get_figure()\n",
    "fig_featp.savefig('feature_importance_xgb.png', bbox_inches='tight', pad_inches=1)\n",
    "\n"
   ]
  },
  {
   "cell_type": "code",
   "execution_count": 46,
   "metadata": {
    "colab": {
     "autoexec": {
      "startup": false,
      "wait_interval": 0
     },
     "base_uri": "https://localhost:8080/",
     "height": 34,
     "output_extras": [
      {
       "item_id": 1
      }
     ]
    },
    "colab_type": "code",
    "executionInfo": {
     "elapsed": 364,
     "status": "ok",
     "timestamp": 1520921651802,
     "user": {
      "displayName": "arun nethi",
      "photoUrl": "https://lh3.googleusercontent.com/a/default-user=s128",
      "userId": "107339023581181760384"
     },
     "user_tz": 420
    },
    "id": "UohS3eGXuY17",
    "outputId": "136fea0e-b82b-4080-91e7-b24db949648d"
   },
   "outputs": [
    {
     "data": {
      "text/plain": [
       "(41088,)"
      ]
     },
     "execution_count": 46,
     "metadata": {
      "tags": []
     },
     "output_type": "execute_result"
    }
   ],
   "source": [
    "test_probs.shape"
   ]
  },
  {
   "cell_type": "code",
   "execution_count": 47,
   "metadata": {
    "colab": {
     "autoexec": {
      "startup": false,
      "wait_interval": 0
     },
     "base_uri": "https://localhost:8080/",
     "height": 117,
     "output_extras": [
      {
       "item_id": 1
      }
     ]
    },
    "colab_type": "code",
    "executionInfo": {
     "elapsed": 2419,
     "status": "ok",
     "timestamp": 1520921656308,
     "user": {
      "displayName": "arun nethi",
      "photoUrl": "https://lh3.googleusercontent.com/a/default-user=s128",
      "userId": "107339023581181760384"
     },
     "user_tz": 420
    },
    "id": "YhNIfJqzlXyA",
    "outputId": "122521f3-dc61-476e-a484-5e1edf4d187f"
   },
   "outputs": [
    {
     "name": "stdout",
     "output_type": "stream",
     "text": [
      "     Id        Sales\n",
      "0     1  4383.696777\n",
      "48    2  7488.126465\n",
      "96    3  9118.330078\n",
      "144   4  6783.677734\n",
      "192   5  7385.319824\n"
     ]
    }
   ],
   "source": [
    "final_pred = np.expm1(test_probs)\n",
    "\n",
    "result = pd.DataFrame({\"Id\": test[\"Id\"], 'Sales': np.expm1(test_probs)})\n",
    "result = result.sort_values(['Id'], ascending=[True])\n",
    "print(result.head())\n",
    "\n",
    "ds = result[\"Sales\"]\n",
    "with open(\"out.csv\", \"w\") as subfile:  \n",
    "    subfile.write(\"Id,Sales\\n\")\n",
    "    for i, pred in enumerate(list(ds)):\n",
    "        subfile.write(\"%s,%s\\n\"%(result.iloc[i,0],result.iloc[i,1]))\n",
    "\n",
    "files.download('out.csv')"
   ]
  },
  {
   "cell_type": "markdown",
   "metadata": {
    "colab": {
     "autoexec": {
      "startup": false,
      "wait_interval": 0
     }
    },
    "colab_type": "code",
    "id": "UkoqQ8f2uqIX"
   },
   "source": [
    "When submitted on Kaggle the output was 0.12018 (rsmpe)."
   ]
  }
 ],
 "metadata": {
  "colab": {
   "collapsed_sections": [],
   "default_view": {},
   "name": "Rossman_stores_sales_forecast.ipynb",
   "provenance": [],
   "version": "0.3.2",
   "views": {}
  },
  "kernelspec": {
   "display_name": "Python 3",
   "language": "python",
   "name": "python3"
  },
  "language_info": {
   "codemirror_mode": {
    "name": "ipython",
    "version": 3
   },
   "file_extension": ".py",
   "mimetype": "text/x-python",
   "name": "python",
   "nbconvert_exporter": "python",
   "pygments_lexer": "ipython3",
   "version": "3.6.3"
  }
 },
 "nbformat": 4,
 "nbformat_minor": 1
}
